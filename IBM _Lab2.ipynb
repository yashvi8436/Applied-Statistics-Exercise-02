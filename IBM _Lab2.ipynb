{
 "cells": [
  {
   "cell_type": "code",
   "execution_count": 5,
   "id": "000978fc-98ba-4c07-854f-3428c8f4e908",
   "metadata": {},
   "outputs": [
    {
     "name": "stdout",
     "output_type": "stream",
     "text": [
      "0    Java\n",
      "1       C\n",
      "2     C++\n",
      "3     NaN\n",
      "dtype: object\n"
     ]
    }
   ],
   "source": [
    "import pandas as pd\n",
    "import numpy as np\n",
    "a = pd.Series(['Java', 'C', 'C++', np.nan])\n",
    "a.map({'Java': 'Core'})\n",
    "print(a)"
   ]
  },
  {
   "cell_type": "code",
   "execution_count": 7,
   "id": "9ff0fa44-7cb9-4011-8823-d8400f634ad5",
   "metadata": {},
   "outputs": [
    {
     "data": {
      "text/html": [
       "<div>\n",
       "<style scoped>\n",
       "    .dataframe tbody tr th:only-of-type {\n",
       "        vertical-align: middle;\n",
       "    }\n",
       "\n",
       "    .dataframe tbody tr th {\n",
       "        vertical-align: top;\n",
       "    }\n",
       "\n",
       "    .dataframe thead th {\n",
       "        text-align: right;\n",
       "    }\n",
       "</style>\n",
       "<table border=\"1\" class=\"dataframe\">\n",
       "  <thead>\n",
       "    <tr style=\"text-align: right;\">\n",
       "      <th></th>\n",
       "      <th>vals</th>\n",
       "    </tr>\n",
       "  </thead>\n",
       "  <tbody>\n",
       "    <tr>\n",
       "      <th>0</th>\n",
       "      <td>a</td>\n",
       "    </tr>\n",
       "    <tr>\n",
       "      <th>1</th>\n",
       "      <td>b</td>\n",
       "    </tr>\n",
       "    <tr>\n",
       "      <th>2</th>\n",
       "      <td>c</td>\n",
       "    </tr>\n",
       "  </tbody>\n",
       "</table>\n",
       "</div>"
      ],
      "text/plain": [
       "  vals\n",
       "0    a\n",
       "1    b\n",
       "2    c"
      ]
     },
     "execution_count": 7,
     "metadata": {},
     "output_type": "execute_result"
    }
   ],
   "source": [
    "s = pd.Series([\"a\",\"b\", \"c\"], name = \"vals\")\n",
    "s.to_frame()\n",
    "\n"
   ]
  },
  {
   "cell_type": "code",
   "execution_count": 12,
   "id": "bacdba8d-9610-487e-9453-4e59c0488069",
   "metadata": {},
   "outputs": [
    {
     "name": "stdout",
     "output_type": "stream",
     "text": [
      "       Emp   ID\n",
      "0   Parker  102\n",
      "1     John  107\n",
      "2    Smith  109\n",
      "3  William  114\n"
     ]
    }
   ],
   "source": [
    "import pandas as pd\n",
    "emp = ['Parker', 'John', 'Smith', 'William']\n",
    "id = [102, 107, 109, 114]\n",
    "emp_series = pd.Series(emp)\n",
    "id_series = pd.Series(id)\n",
    "frame = {'Emp': emp_series, 'ID': id_series}\n",
    "result = pd.DataFrame(frame)\n",
    "print(result)\n"
   ]
  },
  {
   "cell_type": "code",
   "execution_count": 16,
   "id": "7714e94b-38d8-44f3-9c64-34e3a4fc8745",
   "metadata": {},
   "outputs": [
    {
     "name": "stdout",
     "output_type": "stream",
     "text": [
      "    ID Department\n",
      "0  101       B.Sc\n",
      "1  102     B.Tech\n",
      "2  103     M.tech\n"
     ]
    }
   ],
   "source": [
    "import pandas as pd\n",
    "info = {'ID' :[101,102,103], 'Department':['B.Sc', 'B.Tech', 'M.tech']}\n",
    "df = pd.DataFrame(info)\n",
    "print(df)"
   ]
  },
  {
   "cell_type": "code",
   "execution_count": 20,
   "id": "aa02e6e5-49a1-4060-863d-1881b46f1e60",
   "metadata": {},
   "outputs": [
    {
     "name": "stdout",
     "output_type": "stream",
     "text": [
      "   one  two\n",
      "a  1.0    1\n",
      "b  2.0    2\n",
      "c  3.0    3\n",
      "d  4.0    4\n",
      "e  5.0    5\n",
      "f  6.0    6\n",
      "g  NaN    7\n",
      "h  NaN    8\n"
     ]
    }
   ],
   "source": [
    "import pandas as pd\n",
    "info = {'one' :pd.Series([1,2,3,4,5,6], index=['a', 'b', 'c', 'd', 'e', 'f']), 'two' : pd.Series([1,2,3,4,5,6,7,8], index=['a', 'b', 'c', 'd', 'e', 'f', 'g','h'])}\n",
    "d1 = pd.DataFrame(info)\n",
    "print(d1)"
   ]
  },
  {
   "cell_type": "code",
   "execution_count": 35,
   "id": "cf0bacb2-e9ee-48d2-a17a-9a9073f33457",
   "metadata": {},
   "outputs": [
    {
     "name": "stdout",
     "output_type": "stream",
     "text": [
      "       Name  Age      City\n",
      "0  Pratyush   20    Ranchi\n",
      "1   Navdeep   20  Rourkela\n",
      "2    Nikhil   20     Patna\n"
     ]
    }
   ],
   "source": [
    "import pandas as pd\n",
    "info = {\n",
    "    \"Name\": pd.Series(['Pratyush', 'Navdeep', 'Nikhil']),\n",
    "    \"Age\": pd.Series([20, 20, 20]),\n",
    "    \"City\": pd.Series(['Ranchi', 'Rourkela', 'Patna'])\n",
    "}\n",
    "d2 = pd.DataFrame(info)\n",
    "print(d2)\n"
   ]
  },
  {
   "cell_type": "code",
   "execution_count": 36,
   "id": "d93fba63-9260-4c54-ba93-9a2304ff0a77",
   "metadata": {},
   "outputs": [
    {
     "name": "stdout",
     "output_type": "stream",
     "text": [
      "       Name  Age      City\n",
      "0  Pratyush   20    Ranchi\n",
      "1   Navdeep   20  Rourkela\n",
      "2    Nikhil   20     Patna\n",
      "Adding a new colum to the data-farme\n",
      "\n",
      "       Name  Age      City  Gender\n",
      "0  Pratyush   20    Ranchi    Male\n",
      "1   Navdeep   20  Rourkela    Male\n",
      "2    Nikhil   20     Patna  Female\n"
     ]
    }
   ],
   "source": [
    "import pandas as pd\n",
    "info = {\n",
    "    \"Name\": pd.Series(['Pratyush', 'Navdeep', 'Nikhil']),\n",
    "    \"Age\": pd.Series([20, 20, 20]),\n",
    "    \"City\": pd.Series(['Ranchi', 'Rourkela', 'Patna'])\n",
    "}\n",
    "d2 = pd.DataFrame(info)\n",
    "print(d2)\n",
    "print(\"Adding a new colum to the data-farme\")\n",
    "print()\n",
    "d2[\"Gender\"] = pd.Series(['Male', 'Male','Female'])\n",
    "print(d2)"
   ]
  },
  {
   "cell_type": "code",
   "execution_count": 45,
   "id": "373f7cf8-1845-4906-88a9-6835f12deb77",
   "metadata": {},
   "outputs": [
    {
     "name": "stdout",
     "output_type": "stream",
     "text": [
      "       Name  Age      City\n",
      "0  Pratyush   20    Ranchi\n",
      "1   Navdeep   20  Rourkela\n",
      "2    Nikhil   20     Patna\n",
      "\n",
      "Adding a new colum to the data-farme\n",
      "       Name  Age      City  Gender\n",
      "0  Pratyush   20    Ranchi    Male\n",
      "1   Navdeep   20  Rourkela    Male\n",
      "2    Nikhil   20     Patna  Female\n",
      "\n",
      "Deleting a column\n",
      "       Name  Age      City\n",
      "0  Pratyush   20    Ranchi\n",
      "1   Navdeep   20  Rourkela\n",
      "2    Nikhil   20     Patna\n"
     ]
    }
   ],
   "source": [
    "import pandas as pd\n",
    "info = {\n",
    "    \"Name\": pd.Series(['Pratyush', 'Navdeep', 'Nikhil']),\n",
    "    \"Age\": pd.Series([20, 20, 20]),\n",
    "    \"City\": pd.Series(['Ranchi', 'Rourkela', 'Patna'])\n",
    "}\n",
    "d2 = pd.DataFrame(info)\n",
    "print(d2)\n",
    "\n",
    "print()\n",
    "print(\"Adding a new colum to the data-farme\")\n",
    "d2[\"Gender\"] = pd.Series(['Male', 'Male','Female'])\n",
    "print(d2)\n",
    "\n",
    "print()\n",
    "print(\"Deleting a column\")\n",
    "del d2['Gender']\n",
    "print(d2)"
   ]
  },
  {
   "cell_type": "code",
   "execution_count": 54,
   "id": "4403f77b-6234-47f5-a016-24635f20a955",
   "metadata": {},
   "outputs": [
    {
     "name": "stdout",
     "output_type": "stream",
     "text": [
      "   one  two\n",
      "c  3.0    3\n",
      "d  4.0    4\n",
      "e  5.0    5\n"
     ]
    }
   ],
   "source": [
    "import pandas as pd\n",
    "info = {'one': pd.Series([1,2,3,4,5], index=['a','b','c','d','e']), 'two': pd.Series([1,2,3,4,5,6], index=['a','b','c','d','e','f'])}\n",
    "df = pd.DataFrame(info)\n",
    "print(df.iloc[2:5])\n"
   ]
  },
  {
   "cell_type": "code",
   "execution_count": 63,
   "id": "468fdaa9-1f60-4592-a87e-33aef906e828",
   "metadata": {},
   "outputs": [
    {
     "name": "stdout",
     "output_type": "stream",
     "text": [
      "    x   y\n",
      "0   7   8\n",
      "1   9  10\n",
      "2  11  12\n",
      "3  13  14\n"
     ]
    }
   ],
   "source": [
    "import pandas as pd\n",
    "\n",
    "# Creating the first DataFrame\n",
    "d = pd.DataFrame([[7, 8], [9, 10]], columns=['x', 'y'])\n",
    "\n",
    "# Creating the second DataFrame\n",
    "d2 = pd.DataFrame([[11, 12], [13, 14]], columns=['x', 'y'])\n",
    "\n",
    "# Concatenating the DataFrames\n",
    "d = pd.concat([d, d2], ignore_index=True)\n",
    "\n",
    "# Displaying the concatenated DataFrame\n",
    "print(d)\n"
   ]
  },
  {
   "cell_type": "code",
   "execution_count": null,
   "id": "d9ab9ab2-1654-48af-8ccb-bf08004a8e5b",
   "metadata": {},
   "outputs": [],
   "source": []
  }
 ],
 "metadata": {
  "kernelspec": {
   "display_name": "Python 3 (ipykernel)",
   "language": "python",
   "name": "python3"
  },
  "language_info": {
   "codemirror_mode": {
    "name": "ipython",
    "version": 3
   },
   "file_extension": ".py",
   "mimetype": "text/x-python",
   "name": "python",
   "nbconvert_exporter": "python",
   "pygments_lexer": "ipython3",
   "version": "3.12.1"
  }
 },
 "nbformat": 4,
 "nbformat_minor": 5
}
